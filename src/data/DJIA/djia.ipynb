{
 "cells": [
  {
   "cell_type": "markdown",
   "metadata": {},
   "source": [
    "# [Data Preparing](https://github.com/CMACH508/DeepTrader?tab=readme-ov-file#data-preparing)"
   ]
  },
  {
   "cell_type": "markdown",
   "metadata": {},
   "source": [
    "|                    File_name                     |                  shape                   |                  description                   |\n",
    "| :----------------------------------------------: | :--------------------------------------: | :--------------------------------------------: |\n",
    "|                 stocks_data.npy                  | [num_stocks, num_days, num_ASU_features] |       the inputs for asset scoring unit        |\n",
    "|                 market_data.npy                  |       [num_days, num_MSU_features]       |     the inputs for marketing scoring unit      |\n",
    "|                     ror.npy                      |          [num_stocks, num_days]          | rate of return file for calculating the return |\n",
    "| relation_file (e.g. industry_classification.npy) |         [num_stocks, num_stocks]         |     the relation matrix used in GCN layer      |\n",
    "\n"
   ]
  },
  {
   "cell_type": "code",
   "execution_count": 26,
   "metadata": {},
   "outputs": [],
   "source": [
    "DJIA = \"^DJI\"\n",
    "DJIA_STOCKS = [\n",
    "    'AAPL', 'AMGN', 'AMZN', 'AXP', 'BA', 'CAT',\n",
    "    'CRM', 'CSCO', 'CVX', 'DIS', 'DOW', 'GS',\n",
    "    'HD', 'HON', 'IBM', 'INTC', 'JNJ', 'JPM',\n",
    "    'KO', 'MCD', 'MMM', 'MRK', 'MSFT', 'NKE',\n",
    "    'PG', 'TRV', 'UNH', 'V', 'VZ', 'WMT'\n",
    "]\n",
    "# DOW (1316, 5)\n",
    "DJIA_STOCKS = [\n",
    "    'AAPL', 'AMGN', 'AMZN', 'AXP', 'BA', 'CAT',\n",
    "    'CRM', 'CSCO', 'CVX', 'DIS', 'GOOGL', 'GS',\n",
    "    'HD', 'HON', 'IBM', 'INTC', 'JNJ', 'JPM',\n",
    "    'KO', 'MCD', 'MMM', 'MRK', 'MSFT', 'NKE',\n",
    "    'PG', 'TRV', 'UNH', 'V', 'VZ', 'WMT'\n",
    "]\n",
    "DJIA_STOCKS = [\n",
    "    'AAPL', 'AMGN', 'AMZN', 'AXP', 'BA', 'CAT', 'CRM', 'CSCO', 'CVX', 'DIS',\n",
    "    'GS', 'HD', 'HON', 'IBM', 'INTC', 'JNJ', 'JPM', 'KO', 'MCD', 'MMM', 'MRK',\n",
    "    'MSFT', 'NKE', 'PG', 'TRV', 'UNH', 'V', 'VZ', 'WBA', 'WMT'\n",
    "]\n",
    "\n",
    "# Define a small epsilon to avoid 0 values after normalization\n",
    "EPSILON = 1e-6"
   ]
  },
  {
   "cell_type": "code",
   "execution_count": 27,
   "metadata": {},
   "outputs": [
    {
     "name": "stdout",
     "output_type": "stream",
     "text": [
      "DJIA earliest date: 1992-01-02 00:00:00-05:00\n",
      "DJIA Stocks earliest dates:\n",
      "AAPL: 1980-12-12 00:00:00-05:00\n",
      "AMGN: 1983-06-17 00:00:00-04:00\n",
      "AMZN: 1997-05-15 00:00:00-04:00\n",
      "AXP: 1972-06-01 00:00:00-04:00\n",
      "BA: 1962-01-02 00:00:00-05:00\n",
      "CAT: 1962-01-02 00:00:00-05:00\n",
      "CRM: 2004-06-23 00:00:00-04:00\n",
      "CSCO: 1990-02-16 00:00:00-05:00\n",
      "CVX: 1962-01-02 00:00:00-05:00\n",
      "DIS: 1962-01-02 00:00:00-05:00\n",
      "GS: 1999-05-04 00:00:00-04:00\n",
      "HD: 1981-09-22 00:00:00-04:00\n",
      "HON: 1962-01-02 00:00:00-05:00\n",
      "IBM: 1962-01-02 00:00:00-05:00\n",
      "INTC: 1980-03-17 00:00:00-05:00\n",
      "JNJ: 1962-01-02 00:00:00-05:00\n",
      "JPM: 1980-03-17 00:00:00-05:00\n",
      "KO: 1962-01-02 00:00:00-05:00\n",
      "MCD: 1966-07-05 00:00:00-04:00\n",
      "MMM: 1962-01-02 00:00:00-05:00\n",
      "MRK: 1962-01-02 00:00:00-05:00\n",
      "MSFT: 1986-03-13 00:00:00-05:00\n",
      "NKE: 1980-12-02 00:00:00-05:00\n",
      "PG: 1962-01-02 00:00:00-05:00\n",
      "TRV: 1975-11-17 00:00:00-05:00\n",
      "UNH: 1984-10-17 00:00:00-04:00\n",
      "V: 2008-03-19 00:00:00-04:00\n",
      "VZ: 1983-11-21 00:00:00-05:00\n",
      "WBA: 1980-03-17 00:00:00-05:00\n",
      "WMT: 1972-08-25 00:00:00-04:00\n"
     ]
    }
   ],
   "source": [
    "import yfinance as yf\n",
    "\n",
    "# Get the earliest available date for the DJIA index\n",
    "djia_ticker = yf.Ticker(DJIA)\n",
    "djia_history = djia_ticker.history(period=\"max\")\n",
    "if not djia_history.empty:\n",
    "    djia_earliest_date = djia_history.index.min()\n",
    "    print(\"DJIA earliest date:\", djia_earliest_date)\n",
    "else:\n",
    "    print(\"No historical data found for DJIA.\")\n",
    "\n",
    "# Get the earliest available date for each stock in DJIA_STOCKS\\\n",
    "# Create a Tickers object for multiple stocks\n",
    "djia_tickers = yf.Tickers(\" \".join(DJIA_STOCKS))\n",
    "\n",
    "# Dictionary to hold each stock's earliest date\n",
    "stocks_earliest_dates = {}\n",
    "\n",
    "for stock in DJIA_STOCKS:\n",
    "    ticker = djia_tickers.tickers[stock]\n",
    "    stock_history = ticker.history(period=\"max\")\n",
    "    if not stock_history.empty:\n",
    "        earliest_date = stock_history.index.min()\n",
    "        stocks_earliest_dates[stock] = earliest_date\n",
    "    else:\n",
    "        stocks_earliest_dates[stock] = None\n",
    "\n",
    "print(\"DJIA Stocks earliest dates:\")\n",
    "for stock, date in stocks_earliest_dates.items():\n",
    "    print(f\"{stock}: {date}\")"
   ]
  },
  {
   "cell_type": "code",
   "execution_count": 34,
   "metadata": {},
   "outputs": [
    {
     "data": {
      "text/plain": [
       "28"
      ]
     },
     "execution_count": 34,
     "metadata": {},
     "output_type": "execute_result"
    }
   ],
   "source": [
    "stocks_to_remove = ['CRM', 'V']\n",
    "for stock in stocks_to_remove:\n",
    "\tif stock in DJIA_STOCKS:\n",
    "\t\tDJIA_STOCKS.remove(stock)\n",
    "len(DJIA_STOCKS)"
   ]
  },
  {
   "cell_type": "code",
   "execution_count": 35,
   "metadata": {},
   "outputs": [],
   "source": [
    "TARGET_DIR = \".\"\n",
    "# Valid periods: 1d,5d,1mo,3mo,6mo,1y,2y,5y,10y,ytd,max\n",
    "# PERIOD = \"10y\"\n",
    "START_DATE = \"2000-01-01\"\n",
    "END_DATE = \"2023-12-31\"\n",
    "# Open, High, Low, Close, Volume, Dividends, Stock Splits\n",
    "ASSET_FEATURES = [\"Open\", \"High\", \"Low\", \"Close\", \"Volume\"]\n",
    "MARKET_FEATURES = [\"Open\", \"High\", \"Low\", \"Close\"]"
   ]
  },
  {
   "cell_type": "code",
   "execution_count": 39,
   "metadata": {},
   "outputs": [
    {
     "name": "stdout",
     "output_type": "stream",
     "text": [
      "Total business days: 6260\n",
      "\n",
      "Training:\n",
      "  Start Index = 0\n",
      "  End Index = 2042\n",
      "  Total Business Days = 2043\n",
      "\n",
      "Validation:\n",
      "  Start Index = 2043\n",
      "  End Index = 4150\n",
      "  Total Business Days = 2108\n",
      "\n",
      "Test:\n",
      "  Start Index = 4151\n",
      "  End Index = 6259\n",
      "  Total Business Days = 2109\n",
      "\n"
     ]
    }
   ],
   "source": [
    "import pandas as pd\n",
    "\n",
    "# Generate business days for the fixed date range\n",
    "business_days = pd.bdate_range(start=START_DATE, end=END_DATE)\n",
    "print(\"Total business days:\", len(business_days))\n",
    "print()\n",
    "\n",
    "intervals = {\n",
    "    \"Training\": (\"2000/01/01\", \"2007/10/31\"),\n",
    "    \"Validation\": (\"2007/11/01\", \"2015/11/30\"),\n",
    "    \"Test\": (\"2015/12/01\", \"2023/12/31\"),\n",
    "}\n",
    "for interval_name, (start_date, end_date) in intervals.items():\n",
    "    interval_days = pd.bdate_range(start=start_date, end=end_date)\n",
    "    start_idx = business_days.get_loc(interval_days[0])  # find the start index\n",
    "    end_idx = business_days.get_loc(interval_days[-1])   # find the end index\n",
    "    total_days = len(interval_days)  # calculate the total number of business days\n",
    "    \n",
    "    print(f\"{interval_name}:\")\n",
    "    print(f\"  Start Index = {start_idx}\")\n",
    "    print(f\"  End Index = {end_idx}\")\n",
    "    print(f\"  Total Business Days = {total_days}\\n\")\n"
   ]
  },
  {
   "cell_type": "markdown",
   "metadata": {},
   "source": [
    "## stocks_data.npy\n",
    "| File_name | Shape | Description |\n",
    "| ---- | ---- | ---- |\n",
    "|stocks_data.npy |\t[num_stocks, num_days, num_ASU_features] |\tthe inputs for asset scoring unit |"
   ]
  },
  {
   "cell_type": "code",
   "execution_count": 40,
   "metadata": {},
   "outputs": [
    {
     "name": "stdout",
     "output_type": "stream",
     "text": [
      "(28, 6260, 5)\n"
     ]
    }
   ],
   "source": [
    "import yfinance as yf\n",
    "import numpy as np\n",
    "\n",
    "stocks_data = []\n",
    "\n",
    "# Process each stock\n",
    "for stock in DJIA_STOCKS:\n",
    "    ticker = yf.Ticker(stock)\n",
    "    # Download historical data for the given date range\n",
    "    df = ticker.history(start=START_DATE, end=END_DATE)[ASSET_FEATURES]\n",
    "    \n",
    "    # Remove timezone information from the index to match the naive date_range\n",
    "    df.index = df.index.tz_localize(None)\n",
    "    # Reindex to the fixed business day range\n",
    "    df = df.reindex(business_days)\n",
    "    \n",
    "    # Check missing values: count total NaN / total (rows x columns)\n",
    "    total_cells = df.shape[0] * df.shape[1]\n",
    "    nan_count = df.isna().sum().sum()\n",
    "    nan_ratio = nan_count / total_cells\n",
    "    if nan_ratio > 0.1:\n",
    "        print(f\"Warning: {stock} has {nan_ratio:.2%} missing values.\")\n",
    "    \n",
    "    # Fill missing values using forward fill, then backward fill if necessary\n",
    "    df.replace(0, np.nan, inplace=True)\n",
    "    df.ffill(inplace=True)\n",
    "    df.bfill(inplace=True)\n",
    "    \n",
    "    # normalization per column\n",
    "    for feature in ASSET_FEATURES:\n",
    "        min_val = df[feature].min()\n",
    "        max_val = df[feature].max()\n",
    "        # Standard min-max normalization, then shift the scale\n",
    "        df[feature] = ((df[feature] - min_val) / (max_val - min_val)) * (1 - EPSILON) + EPSILON\n",
    "    \n",
    "    stocks_data.append(df)\n",
    "\n",
    "# Convert list of DataFrames to numpy array with shape (number_of_stocks, number_of_days, number_of_features)\n",
    "stocks_data_np = np.stack([df.values for df in stocks_data])\n",
    "print(stocks_data_np.shape)\n",
    "\n",
    "np.save(f\"{TARGET_DIR}/stocks_data.npy\", stocks_data_np)"
   ]
  },
  {
   "cell_type": "markdown",
   "metadata": {},
   "source": [
    "# market_data.npy\n",
    "| File_name | Shape | Description |\n",
    "| ---- | ---- | ---- |\n",
    "| market_data.npy | [num_days, num_MSU_features] | the inputs for marketing scoring unit |"
   ]
  },
  {
   "cell_type": "code",
   "execution_count": 41,
   "metadata": {},
   "outputs": [
    {
     "name": "stdout",
     "output_type": "stream",
     "text": [
      "(6260, 4)\n"
     ]
    }
   ],
   "source": [
    "# Download DJIA historical data for the given date range\n",
    "ticker = yf.Ticker(DJIA)\n",
    "market_data = ticker.history(start=START_DATE, end=END_DATE)[MARKET_FEATURES]\n",
    "\n",
    "# Remove timezone information from the index so it matches the naive date_range\n",
    "market_data.index = market_data.index.tz_localize(None)\n",
    "# Reindex the DataFrame to the fixed business day range\n",
    "market_data = market_data.reindex(business_days)\n",
    "\n",
    "# Check missing values: calculate total cells and NaN ratio\n",
    "total_cells = market_data.shape[0] * market_data.shape[1]\n",
    "nan_count = market_data.isna().sum().sum()\n",
    "nan_ratio = nan_count / total_cells\n",
    "if nan_ratio > 0.1:\n",
    "    print(f\"Warning: DJIA has {nan_ratio:.2%} missing values.\")\n",
    "\n",
    "# Fill missing values using forward fill, then backward fill if necessary\n",
    "market_data.replace(0, np.nan, inplace=True)\n",
    "market_data.ffill(inplace=True)\n",
    "market_data.bfill(inplace=True)\n",
    "\n",
    "# Normalize each column (feature)\n",
    "for feature in MARKET_FEATURES:\n",
    "    min_val = market_data[feature].min()\n",
    "    max_val = market_data[feature].max()\n",
    "    # Standard min-max normalization, then shift the scale\n",
    "    market_data[feature] = ((market_data[feature] - min_val) / (max_val - min_val)) * (1 - EPSILON) + EPSILON\n",
    "    \n",
    "# Convert the DataFrame to a numpy array and save it\n",
    "market_data_np = market_data.to_numpy()\n",
    "print(market_data_np.shape)\n",
    "np.save(f\"{TARGET_DIR}/market_data.npy\", market_data_np)"
   ]
  },
  {
   "cell_type": "markdown",
   "metadata": {},
   "source": [
    "# ror.py\n",
    "| File_name | Shape | Description |\n",
    "| ---- | ---- | ---- |\n",
    "| ror.npy | [num_stocks, num_days] | rate of return file for calculating the return|"
   ]
  },
  {
   "cell_type": "code",
   "execution_count": 42,
   "metadata": {},
   "outputs": [
    {
     "name": "stdout",
     "output_type": "stream",
     "text": [
      "(28, 6260)\n"
     ]
    }
   ],
   "source": [
    "import yfinance as yf\n",
    "import pandas as pd\n",
    "import numpy as np\n",
    "\n",
    "# Dictionary to collect rate of return series for each stock\n",
    "ror_data = {}\n",
    "\n",
    "# Process each stock in DJIA_STOCKS\n",
    "for stock in DJIA_STOCKS:\n",
    "    ticker = yf.Ticker(stock)\n",
    "    # Download historical data for the given date range\n",
    "    data = ticker.history(start=START_DATE, end=END_DATE)\n",
    "    \n",
    "    # Remove timezone info from the index so that it matches the naive date_range\n",
    "    data.index = data.index.tz_localize(None)\n",
    "    \n",
    "    # Reindex to the fixed business day range (if a date is missing, NaN is inserted)\n",
    "    data = data.reindex(business_days)\n",
    "    \n",
    "    # Check missing values: count total cells and compute NaN ratio\n",
    "    total_cells = data.shape[0] * data.shape[1]\n",
    "    nan_count = data.isna().sum().sum()\n",
    "    nan_ratio = nan_count / total_cells\n",
    "    if nan_ratio > 0.1:\n",
    "        print(f\"Warning: {stock} has {nan_ratio:.2%} missing values in raw data.\")\n",
    "    \n",
    "    # Fill missing values using forward fill, then backward fill if necessary\n",
    "    data.ffill(inplace=True)\n",
    "    data.bfill(inplace=True)\n",
    "    \n",
    "    # Compute daily rate of return: (Close / Open) - 1.0\n",
    "    ror_series = data[\"Close\"] / data[\"Open\"] - 1.0\n",
    "    ror_data[stock] = ror_series\n",
    "\n",
    "# Create a DataFrame with rows = stocks, columns = dates\n",
    "ror_df = pd.DataFrame(ror_data).transpose()\n",
    "print(ror_df.shape)  # Should be (num_stocks, num_days)\n",
    "\n",
    "# Save the numpy array (shape: [num_stocks, num_days])\n",
    "np.save(f\"{TARGET_DIR}/ror.npy\", ror_df.to_numpy())\n"
   ]
  },
  {
   "cell_type": "markdown",
   "metadata": {},
   "source": [
    "## relation_file\n",
    "| File_name | Shape | Description |\n",
    "| ---- | ---- | ---- |\n",
    "| relation_file (e.g. industry_classification.npy) | [num_stocks, num_stocks] | the relation matrix used in GCN layer|"
   ]
  },
  {
   "cell_type": "markdown",
   "metadata": {},
   "source": [
    "### DT-industry"
   ]
  },
  {
   "cell_type": "code",
   "execution_count": 45,
   "metadata": {},
   "outputs": [
    {
     "name": "stdout",
     "output_type": "stream",
     "text": [
      "{'Communication Services': {'DIS', 'VZ'},\n",
      " 'Consumer Cyclical': {'AMZN', 'NKE', 'HD', 'MCD'},\n",
      " 'Consumer Defensive': {'PG', 'WMT', 'KO'},\n",
      " 'Energy': {'CVX'},\n",
      " 'Financial Services': {'GS', 'AXP', 'TRV', 'JPM'},\n",
      " 'Healthcare': {'AMGN', 'WBA', 'JNJ', 'UNH', 'MRK'},\n",
      " 'Industrials': {'BA', 'MMM', 'HON', 'CAT'},\n",
      " 'Technology': {'IBM', 'AAPL', 'CSCO', 'MSFT', 'INTC'}}\n",
      "(28, 28)\n"
     ]
    }
   ],
   "source": [
    "import yfinance as yf\n",
    "import numpy as np\n",
    "from pprint import pprint\n",
    "from collections import defaultdict\n",
    "\n",
    "# Create a Tickers object for multiple stocks in DJIA_STOCKS\n",
    "djia_tickers = yf.Tickers(\" \".join(DJIA_STOCKS))\n",
    "\n",
    "# Build a dictionary to map each sector to a set of stocks in that sector\n",
    "industry = defaultdict(set)\n",
    "for stock in djia_tickers.symbols:\n",
    "    ticker = djia_tickers.tickers[stock]\n",
    "    # Extract sector information from ticker.info; assume it exists\n",
    "    sector = ticker.info.get('sector')\n",
    "    if sector is not None:\n",
    "        industry[sector].add(stock)\n",
    "\n",
    "# Print the industry classification dictionary for reference\n",
    "pprint(dict(industry))\n",
    "\n",
    "# Build the relation matrix based on industry classification\n",
    "industry_classification = []\n",
    "for stock in djia_tickers.symbols:\n",
    "    ticker = djia_tickers.tickers[stock]\n",
    "    # Get the sector of the current stock\n",
    "    sector = ticker.info.get('sector')\n",
    "    # Determine the number of stocks in this sector; if no sector info, default to 1\n",
    "    sector_count = len(industry[sector]) if sector is not None else 1\n",
    "    # For each stock in djia_tickers.symbols, assign weight = 1/sector_count if it belongs to the same sector, else 0.0\n",
    "    relation = [1.0 / sector_count if other_stock in industry[sector] else 0.0 for other_stock in djia_tickers.symbols]\n",
    "    industry_classification.append(relation)\n",
    "\n",
    "# Save the relation matrix as a text file for inspection and as a numpy file for use in GCN\n",
    "with open(f\"{TARGET_DIR}/industry_classification.txt\", \"w\") as f:\n",
    "    for row in industry_classification:\n",
    "        # Each value is formatted to two decimal places\n",
    "        f.write(' '.join([f'{num:.2f}' for num in row]) + '\\n')\n",
    "\n",
    "# Convert the relation matrix to a numpy array with shape [num_stocks, num_stocks]\n",
    "industry_classification = np.array(industry_classification)\n",
    "print(industry_classification.shape)\n",
    "np.save(f\"{TARGET_DIR}/industry_classification.npy\", industry_classification)\n"
   ]
  },
  {
   "cell_type": "markdown",
   "metadata": {},
   "source": [
    "### DT-correlation"
   ]
  },
  {
   "cell_type": "code",
   "execution_count": 46,
   "metadata": {},
   "outputs": [
    {
     "name": "stdout",
     "output_type": "stream",
     "text": [
      "(28, 28)\n"
     ]
    }
   ],
   "source": [
    "correlation_matrix = np.corrcoef(ror_df)\n",
    "print(correlation_matrix.shape)\n",
    "np.save(f\"{TARGET_DIR}/industry_classification.npy\", correlation_matrix)"
   ]
  },
  {
   "cell_type": "markdown",
   "metadata": {},
   "source": [
    "## arguments\n",
    "\n",
    "| Argument          | Description                                                | Default                     | Type  |\n",
    "| ----------------- | ---------------------------------------------------------- | --------------------------- | ----- |\n",
    "| `--config`        | Deafult configuration file                                 | hyper.json                  | str   |\n",
    "| `--window_len`    | Input window size                                          | 13 (weeks)                  | int   |\n",
    "| `--market`        | Stock market                                               | DJIA                        | str   |\n",
    "| `--G`             | The number of stocks participating in long/short each time | 4 (for DJIA)                | int   |\n",
    "| `--batch_size`    | Batch size number                                          | 37                          | Int   |\n",
    "| `--lr`            | learning rate                                              | 1e-6                        | float |\n",
    "| `--gamma`         | Coefficient for adjusting lr between ASU and MSU           | 0.05                        | float |\n",
    "| `--no_spatial`    | Whether to use spatial attention and GCN layer in ASU      | True                        | bool  |\n",
    "| `--no_msu`        | Whether to use market scoring unit                         | True                        | bool  |\n",
    "| `--relation_file` | File name for relation matrix used in GCN layer            | Industry_classification.npy | str   |\n",
    "| `--addaptiveadj`  | Whether to use addaptive matrix in GCN (Eq. 2)             | True                        | Bool  |\n",
    "\n"
   ]
  }
 ],
 "metadata": {
  "kernelspec": {
   "display_name": "DeepTrader",
   "language": "python",
   "name": "python3"
  },
  "language_info": {
   "codemirror_mode": {
    "name": "ipython",
    "version": 3
   },
   "file_extension": ".py",
   "mimetype": "text/x-python",
   "name": "python",
   "nbconvert_exporter": "python",
   "pygments_lexer": "ipython3",
   "version": "3.10.8"
  }
 },
 "nbformat": 4,
 "nbformat_minor": 2
}
