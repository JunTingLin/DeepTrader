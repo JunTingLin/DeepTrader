{
 "cells": [
  {
   "cell_type": "markdown",
   "metadata": {},
   "source": [
    "# [Data Preparing](https://github.com/CMACH508/DeepTrader?tab=readme-ov-file#data-preparing)"
   ]
  },
  {
   "cell_type": "markdown",
   "metadata": {},
   "source": [
    "|                    File_name                     |                  shape                   |                  description                   |\n",
    "| :----------------------------------------------: | :--------------------------------------: | :--------------------------------------------: |\n",
    "|                 stocks_data.npy                  | [num_stocks, num_days, num_ASU_features] |       the inputs for asset scoring unit        |\n",
    "|                 market_data.npy                  |       [num_days, num_MSU_features]       |     the inputs for marketing scoring unit      |\n",
    "|                     ror.npy                      |          [num_stocks, num_days]          | rate of return file for calculating the return |\n",
    "| relation_file (e.g. industry_classification.npy) |         [num_stocks, num_stocks]         |     the relation matrix used in GCN layer      |\n",
    "\n"
   ]
  },
  {
   "cell_type": "code",
   "execution_count": 1,
   "metadata": {},
   "outputs": [
    {
     "name": "stdout",
     "output_type": "stream",
     "text": [
      "['2330.TW', '2454.TW', '2317.TW', '2382.TW', '2308.TW', '2303.TW', '2891.TW', '3711.TW', '2881.TW', '2412.TW', '2886.TW', '2882.TW', '2884.TW', '1216.TW', '2885.TW', '3231.TW', '3034.TW', '2357.TW', '2002.TW', '2892.TW', '1303.TW', '5880.TW', '2379.TW', '1301.TW', '2890.TW', '3008.TW', '3037.TW', '2345.TW', '5871.TW', '3661.TW', '2880.TW', '2327.TW', '2883.TW', '2301.TW', '1101.TW', '2887.TW', '2207.TW', '4938.TW', '6669.TW', '1326.TW', '3045.TW', '2395.TW', '5876.TW', '2603.TW', '1590.TW', '2912.TW', '4904.TW', '2801.TW', '6505.TW', '2408.TW']\n",
      "Total stocks to process: 50\n"
     ]
    }
   ],
   "source": [
    "import pandas as pd\n",
    "TWII = \"^DJI\"\n",
    "toptw = pd.read_excel(r'0050.xlsx')\n",
    "TWII_STOCKS = [str(symbol) + '.TW' for symbol in toptw['Symbol']]\n",
    "print(TWII_STOCKS)\n",
    "print(f\"Total stocks to process: {len(TWII_STOCKS)}\")\n",
    "\n",
    "\n",
    "# Define a small epsilon to avoid 0 values after normalization\n",
    "EPSILON = 1e-6"
   ]
  },
  {
   "cell_type": "code",
   "execution_count": 2,
   "metadata": {},
   "outputs": [
    {
     "name": "stdout",
     "output_type": "stream",
     "text": [
      "TWII earliest date: 1992-01-02 00:00:00-05:00\n",
      "TWII Stocks earliest dates:\n",
      "2330.TW: 2000-01-04 00:00:00+08:00\n",
      "2454.TW: 2001-07-23 00:00:00+08:00\n",
      "2317.TW: 1993-01-05 00:00:00+08:00\n",
      "2382.TW: 2000-01-04 00:00:00+08:00\n",
      "2308.TW: 2000-01-04 00:00:00+08:00\n",
      "2303.TW: 2000-01-04 00:00:00+08:00\n",
      "2891.TW: 2002-05-17 00:00:00+08:00\n",
      "3711.TW: 2000-01-04 00:00:00+08:00\n",
      "2881.TW: 2001-12-20 00:00:00+08:00\n",
      "2412.TW: 2000-11-15 00:00:00+08:00\n",
      "2886.TW: 2000-01-04 00:00:00+08:00\n",
      "2882.TW: 2000-01-04 00:00:00+08:00\n",
      "2884.TW: 2002-01-29 00:00:00+08:00\n",
      "1216.TW: 2000-01-04 00:00:00+08:00\n",
      "2885.TW: 2000-01-04 00:00:00+08:00\n",
      "3231.TW: 2003-08-19 00:00:00+08:00\n",
      "3034.TW: 2002-08-27 00:00:00+08:00\n",
      "2357.TW: 2000-01-04 00:00:00+08:00\n",
      "2002.TW: 2000-01-04 00:00:00+08:00\n",
      "2892.TW: 2003-01-03 00:00:00+08:00\n",
      "1303.TW: 2000-01-04 00:00:00+08:00\n",
      "5880.TW: 2000-01-04 00:00:00+08:00\n",
      "2379.TW: 2000-01-04 00:00:00+08:00\n",
      "1301.TW: 2000-01-04 00:00:00+08:00\n",
      "2890.TW: 2000-01-04 00:00:00+08:00\n",
      "3008.TW: 2002-03-11 00:00:00+08:00\n",
      "3037.TW: 2000-01-04 00:00:00+08:00\n",
      "2345.TW: 2000-01-04 00:00:00+08:00\n",
      "5871.TW: 2011-12-13 00:00:00+08:00\n",
      "3661.TW: 2012-10-05 00:00:00+08:00\n",
      "2880.TW: 2001-12-20 00:00:00+08:00\n",
      "2327.TW: 2000-01-04 00:00:00+08:00\n",
      "2883.TW: 2001-12-31 00:00:00+08:00\n",
      "2301.TW: 2000-01-04 00:00:00+08:00\n",
      "1101.TW: 2000-01-04 00:00:00+08:00\n",
      "2887.TW: 2002-02-19 00:00:00+08:00\n",
      "2207.TW: 2000-01-04 00:00:00+08:00\n",
      "4938.TW: 2009-01-12 00:00:00+08:00\n",
      "6669.TW: 2017-11-13 00:00:00+08:00\n",
      "1326.TW: 2000-01-04 00:00:00+08:00\n",
      "3045.TW: 2002-08-27 00:00:00+08:00\n",
      "2395.TW: 2000-01-04 00:00:00+08:00\n",
      "5876.TW: 2014-09-25 00:00:00+08:00\n",
      "2603.TW: 2000-01-04 00:00:00+08:00\n",
      "1590.TW: 2010-12-13 00:00:00+08:00\n",
      "2912.TW: 2000-01-04 00:00:00+08:00\n",
      "4904.TW: 2005-08-24 00:00:00+08:00\n",
      "2801.TW: 2000-01-04 00:00:00+08:00\n",
      "6505.TW: 2003-12-26 00:00:00+08:00\n",
      "2408.TW: 2000-08-18 00:00:00+08:00\n"
     ]
    }
   ],
   "source": [
    "import yfinance as yf\n",
    "\n",
    "# Get the earliest available date for the TWII index\n",
    "djia_ticker = yf.Ticker(TWII)\n",
    "djia_history = djia_ticker.history(period=\"max\")\n",
    "if not djia_history.empty:\n",
    "    djia_earliest_date = djia_history.index.min()\n",
    "    print(\"TWII earliest date:\", djia_earliest_date)\n",
    "else:\n",
    "    print(\"No historical data found for TWII.\")\n",
    "\n",
    "# Get the earliest available date for each stock in TWII_STOCKS\\\n",
    "# Create a Tickers object for multiple stocks\n",
    "djia_tickers = yf.Tickers(\" \".join(TWII_STOCKS))\n",
    "\n",
    "# Dictionary to hold each stock's earliest date\n",
    "stocks_earliest_dates = {}\n",
    "\n",
    "for stock in TWII_STOCKS:\n",
    "    ticker = djia_tickers.tickers[stock]\n",
    "    stock_history = ticker.history(period=\"max\")\n",
    "    if not stock_history.empty:\n",
    "        earliest_date = stock_history.index.min()\n",
    "        stocks_earliest_dates[stock] = earliest_date\n",
    "    else:\n",
    "        stocks_earliest_dates[stock] = None\n",
    "\n",
    "print(\"TWII Stocks earliest dates:\")\n",
    "for stock, date in stocks_earliest_dates.items():\n",
    "    print(f\"{stock}: {date}\")"
   ]
  },
  {
   "cell_type": "code",
   "execution_count": 7,
   "metadata": {},
   "outputs": [
    {
     "name": "stdout",
     "output_type": "stream",
     "text": [
      "Stocks to remove: ['2454.TW', '2891.TW', '2881.TW', '2412.TW', '2884.TW', '3231.TW', '3034.TW', '2892.TW', '3008.TW', '5871.TW', '3661.TW', '2880.TW', '2883.TW', '2887.TW', '4938.TW', '6669.TW', '3045.TW', '5876.TW', '1590.TW', '4904.TW', '6505.TW', '2408.TW']\n",
      "22\n"
     ]
    }
   ],
   "source": [
    "import datetime\n",
    "\n",
    "stocks_to_remove = []\n",
    "target_date = datetime.date(2000, 1, 4)\n",
    "for stock, dt in stocks_earliest_dates.items():\n",
    "\tif dt is None or dt.replace(tzinfo=None).date() > target_date:\n",
    "\t\tstocks_to_remove.append(stock)\n",
    "for stock in stocks_to_remove:\n",
    "\tif stock in TWII_STOCKS:\n",
    "\t\tTWII_STOCKS.remove(stock)\n",
    "print(\"Stocks to remove:\", stocks_to_remove)            \n",
    "print(len(stocks_to_remove))"
   ]
  },
  {
   "cell_type": "code",
   "execution_count": 16,
   "metadata": {},
   "outputs": [],
   "source": [
    "TARGET_DIR = \".\"\n",
    "# Valid periods: 1d,5d,1mo,3mo,6mo,1y,2y,5y,10y,ytd,max\n",
    "# PERIOD = \"10y\"\n",
    "START_DATE = \"2000-01-01\"\n",
    "END_DATE = \"2023-12-31\"\n",
    "# Open, High, Low, Close, Volume, Dividends, Stock Splits\n",
    "ASSET_FEATURES = [\"Open\", \"High\", \"Low\", \"Close\", \"Volume\"]\n",
    "MARKET_FEATURES = [\"Open\", \"High\", \"Low\", \"Close\"]"
   ]
  },
  {
   "cell_type": "code",
   "execution_count": 17,
   "metadata": {},
   "outputs": [
    {
     "name": "stdout",
     "output_type": "stream",
     "text": [
      "Total business days: 6260\n",
      "\n",
      "Training:\n",
      "  Start Index = 0\n",
      "  End Index = 2108\n",
      "  Total Business Days = 2109\n",
      "\n",
      "Validation:\n",
      "  Start Index = 2109\n",
      "  End Index = 4129\n",
      "  Total Business Days = 2021\n",
      "\n",
      "Test:\n",
      "  Start Index = 4130\n",
      "  End Index = 6259\n",
      "  Total Business Days = 2130\n",
      "\n"
     ]
    }
   ],
   "source": [
    "import pandas as pd\n",
    "\n",
    "# Generate business days for the fixed date range\n",
    "business_days = pd.bdate_range(start=START_DATE, end=END_DATE)\n",
    "print(\"Total business days:\", len(business_days))\n",
    "print()\n",
    "\n",
    "intervals = {\n",
    "    \"Training\": (\"2000/01/01\", \"2008/01/31\"),\n",
    "    \"Validation\": (\"2008/02/01\", \"2015/10/31\"),\n",
    "    \"Test\": (\"2015/11/01\", \"2023/12/31\"),\n",
    "}\n",
    "for interval_name, (start_date, end_date) in intervals.items():\n",
    "    interval_days = pd.bdate_range(start=start_date, end=end_date)\n",
    "    start_idx = business_days.get_loc(interval_days[0])  # find the start index\n",
    "    end_idx = business_days.get_loc(interval_days[-1])   # find the end index\n",
    "    total_days = len(interval_days)  # calculate the total number of business days\n",
    "    \n",
    "    print(f\"{interval_name}:\")\n",
    "    print(f\"  Start Index = {start_idx}\")\n",
    "    print(f\"  End Index = {end_idx}\")\n",
    "    print(f\"  Total Business Days = {total_days}\\n\")\n"
   ]
  }
 ],
 "metadata": {
  "kernelspec": {
   "display_name": "DeepTrader",
   "language": "python",
   "name": "python3"
  },
  "language_info": {
   "codemirror_mode": {
    "name": "ipython",
    "version": 3
   },
   "file_extension": ".py",
   "mimetype": "text/x-python",
   "name": "python",
   "nbconvert_exporter": "python",
   "pygments_lexer": "ipython3",
   "version": "3.10.8"
  }
 },
 "nbformat": 4,
 "nbformat_minor": 2
}
